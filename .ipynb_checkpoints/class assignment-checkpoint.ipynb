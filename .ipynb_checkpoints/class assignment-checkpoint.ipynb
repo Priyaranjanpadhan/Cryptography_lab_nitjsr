{
 "cells": [
  {
   "cell_type": "raw",
   "id": "a7ff24fa-2a7a-4370-8a35-ce45cfce5e75",
   "metadata": {},
   "source": [
    "1) a> Implementation of Euclidean algorithm"
   ]
  },
  {
   "cell_type": "code",
   "execution_count": 13,
   "id": "51a26bcf-0ea9-45eb-a175-350c451fdaa9",
   "metadata": {},
   "outputs": [
    {
     "name": "stdin",
     "output_type": "stream",
     "text": [
      "Enter the value for a:  36\n",
      "Enter the value for b:  10\n"
     ]
    },
    {
     "name": "stdout",
     "output_type": "stream",
     "text": [
      "The gcd of 36 and 10 is: 2 in recursive way\n",
      "The gcd of 2 and 0 is : 2 in loop wawy\n"
     ]
    }
   ],
   "source": [
    "def gcd(a, b):\n",
    "    if b == 0:\n",
    "        return a\n",
    "    return gcd(b, a % b)\n",
    "\n",
    "a = int(input(\"Enter the value for a: \"))\n",
    "b = int(input(\"Enter the value for b: \"))\n",
    "print(f\"The gcd of {a} and {b} is: {gcd(a, b)}\" + \" in recursive way\") #in recursive way\n",
    "\n",
    "while(b > 0) : \n",
    "    q = a/b\n",
    "    r = a%b\n",
    "    a = b\n",
    "    b = r\n",
    "print(f\"The gcd of {a} and {b } is : {gcd(a,b)}\" + \" in loop wawy\")#in loop way"
   ]
  },
  {
   "cell_type": "raw",
   "id": "491c9704-c95e-41df-9ba5-b34a24fbbf8f",
   "metadata": {},
   "source": [
    "b> Implementation of extended algorithm"
   ]
  },
  {
   "cell_type": "code",
   "execution_count": 7,
   "id": "8301c72a-791e-4232-bbb6-4a4162568c11",
   "metadata": {},
   "outputs": [
    {
     "name": "stdin",
     "output_type": "stream",
     "text": [
      "Enter the value for a:  17\n",
      "Enter the value for b:  0\n"
     ]
    },
    {
     "name": "stdout",
     "output_type": "stream",
     "text": [
      "The gcd of the given input and S and T variable are :  (17, 1, 0)\n"
     ]
    }
   ],
   "source": [
    "def extended_gcd(a,b) : \n",
    "    s1 = 1\n",
    "    s2 = 0\n",
    "    t1 = 0\n",
    "    t2 = 1\n",
    "    while b > 0 :\n",
    "        q = a // b\n",
    "        r = a % b\n",
    "        a = b\n",
    "        b = r\n",
    "        s = s1 - q * s2\n",
    "        s1 = s2\n",
    "        s2 = s\n",
    "        t = t1 - q * t2\n",
    "        t1 = t2\n",
    "        t2 = t\n",
    "    return a, s1, t1\n",
    "\n",
    "a = int(input(f\"Enter the value for a: \"))\n",
    "b = int(input(f\"Enter the value for b: \"))\n",
    "\n",
    "print(\"The gcd of the given input and S and T variable are : \",extended_gcd(a,b))\n"
   ]
  },
  {
   "cell_type": "raw",
   "id": "9fbb1d1b-35c6-408e-bb5a-e1221188fc1f",
   "metadata": {},
   "source": [
    "c> Using Extended Euclidean Algorithm to find the inverse of a number in GF(p)"
   ]
  },
  {
   "cell_type": "code",
   "execution_count": null,
   "id": "e423c1d4-a587-4a4d-9ea3-76f0ff603d58",
   "metadata": {},
   "outputs": [],
   "source": []
  }
 ],
 "metadata": {
  "kernelspec": {
   "display_name": "Python [conda env:base] *",
   "language": "python",
   "name": "conda-base-py"
  },
  "language_info": {
   "codemirror_mode": {
    "name": "ipython",
    "version": 3
   },
   "file_extension": ".py",
   "mimetype": "text/x-python",
   "name": "python",
   "nbconvert_exporter": "python",
   "pygments_lexer": "ipython3",
   "version": "3.13.5"
  }
 },
 "nbformat": 4,
 "nbformat_minor": 5
}
