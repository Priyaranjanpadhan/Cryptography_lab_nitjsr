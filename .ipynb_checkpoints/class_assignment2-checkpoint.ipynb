{
 "cells": [
  {
   "cell_type": "raw",
   "id": "a7ff24fa-2a7a-4370-8a35-ce45cfce5e75",
   "metadata": {},
   "source": [
    "1) a> Implementation of Euclidean algorithm"
   ]
  },
  {
   "cell_type": "code",
   "execution_count": 13,
   "id": "51a26bcf-0ea9-45eb-a175-350c451fdaa9",
   "metadata": {},
   "outputs": [
    {
     "name": "stdin",
     "output_type": "stream",
     "text": [
      "Enter the value for a:  36\n",
      "Enter the value for b:  10\n"
     ]
    },
    {
     "name": "stdout",
     "output_type": "stream",
     "text": [
      "The gcd of 36 and 10 is: 2 in recursive way\n",
      "The gcd of 2 and 0 is : 2 in loop wawy\n"
     ]
    }
   ],
   "source": [
    "def gcd(a, b):\n",
    "    if b == 0:\n",
    "        return a\n",
    "    return gcd(b, a % b)\n",
    "\n",
    "a = int(input(\"Enter the value for a: \"))\n",
    "b = int(input(\"Enter the value for b: \"))\n",
    "print(f\"The gcd of {a} and {b} is: {gcd(a, b)}\" + \" in recursive way\") #in recursive way\n",
    "\n",
    "while(b > 0) : \n",
    "    q = a/b\n",
    "    r = a%b\n",
    "    a = b\n",
    "    b = r\n",
    "print(f\"The gcd of {a} and {b } is : {gcd(a,b)}\" + \" in loop wawy\")#in loop way"
   ]
  },
  {
   "cell_type": "raw",
   "id": "491c9704-c95e-41df-9ba5-b34a24fbbf8f",
   "metadata": {},
   "source": [
    "b> Implementation of extended algorithm"
   ]
  },
  {
   "cell_type": "code",
   "execution_count": 2,
   "id": "8301c72a-791e-4232-bbb6-4a4162568c11",
   "metadata": {},
   "outputs": [
    {
     "name": "stdin",
     "output_type": "stream",
     "text": [
      "Enter the value for a:  17\n",
      "Enter the value for b:  0\n"
     ]
    },
    {
     "name": "stdout",
     "output_type": "stream",
     "text": [
      "The gcd of the given input and S and T variable are :  (17, 1, 0)\n"
     ]
    }
   ],
   "source": [
    "def extended_gcd(a,b) : \n",
    "    s1 = 1\n",
    "    s2 = 0\n",
    "    t1 = 0\n",
    "    t2 = 1\n",
    "    while b > 0 :\n",
    "        q = a // b\n",
    "        r = a % b\n",
    "        a = b\n",
    "        b = r\n",
    "        s = s1 - q * s2\n",
    "        s1 = s2\n",
    "        s2 = s\n",
    "        t = t1 - q * t2\n",
    "        t1 = t2\n",
    "        t2 = t\n",
    "    return a, s1, t1\n",
    "\n",
    "a = int(input(\"Enter the value for a: \"))\n",
    "b = int(input(\"Enter the value for b: \"))\n",
    "\n",
    "print(\"The gcd of the given input and S and T variable are : \",extended_gcd(a,b))\n"
   ]
  },
  {
   "cell_type": "raw",
   "id": "9fbb1d1b-35c6-408e-bb5a-e1221188fc1f",
   "metadata": {},
   "source": [
    "c> Using Extended Euclidean Algorithm to find the inverse of a number in GF(p)"
   ]
  },
  {
   "cell_type": "code",
   "execution_count": 17,
   "id": "e036b8da-a198-42df-909c-e6589f185633",
   "metadata": {},
   "outputs": [
    {
     "name": "stdin",
     "output_type": "stream",
     "text": [
      "Enter the value for a :  3\n",
      "Enter the value for b :  7\n"
     ]
    },
    {
     "name": "stdout",
     "output_type": "stream",
     "text": [
      "The inverse of the given number is :  1\n"
     ]
    }
   ],
   "source": [
    "def inverse(a,b) : \n",
    "    t1 = 0\n",
    "    t2 = 1\n",
    "    mod = b   # keep original modulus safe\n",
    "    A = a\n",
    "    B = b\n",
    "    \n",
    "    while(B > 0) :\n",
    "        q = A // B\n",
    "        r = A % B\n",
    "        \n",
    "        A, B = B, r\n",
    "\n",
    "        t = t1 - q * t2\n",
    "        t1, t2 = t2, t\n",
    "\n",
    "    if(A != 1) :   # gcd check\n",
    "        return -1\n",
    "    else : \n",
    "        return t1 % mod   # normalize result\n",
    "\n",
    "a = int(input(\"Enter the value for a : \"))\n",
    "b = int(input(\"Enter the value for b : \"))\n",
    "\n",
    "inv = inverse(a,b)\n",
    "if(inv == -1) :\n",
    "    print(\"The given value for the number cant be found a inverse.\")\n",
    "else : \n",
    "    print(\"The inverse of the given number is : \", inv)"
   ]
  },
  {
   "cell_type": "raw",
   "id": "c6543b91-f224-4b0c-a30c-3486871ddddf",
   "metadata": {},
   "source": [
    "2) Implementation of classical substituition cipher\n",
    " a> Additive(caesar) cipher"
   ]
  },
  {
   "cell_type": "code",
   "execution_count": 10,
   "id": "f96afa5e-7ba4-4c90-bc25-cdf403c6ef70",
   "metadata": {},
   "outputs": [
    {
     "name": "stdin",
     "output_type": "stream",
     "text": [
      "Enter a string that needs to be encrypted :  abcdef\n",
      "Enter the key value :  3\n"
     ]
    },
    {
     "name": "stdout",
     "output_type": "stream",
     "text": [
      "It's a ceasar cipher\n",
      "The cipher text for the given text is :  defghi\n",
      "The plain text for the above cipher text is :  abcdef\n"
     ]
    }
   ],
   "source": [
    "text = input(\"Enter a string that needs to be encrypted : \")\n",
    "key = int(input(\"Enter the key value : \"))\n",
    "\n",
    "if key == 3 :\n",
    "    print(\"It's a ceasar cipher\")\n",
    "cipher = [] #A list for storing cipher text as it is immutable\n",
    "\n",
    "for ch in text : \n",
    "    cipher.append(chr(((ord(ch)-ord('a') + key) % 26) + ord('a')))\n",
    "print(\"The cipher text for the given text is : \", \"\".join(cipher))\n",
    "\n",
    "plain = []\n",
    "for ch in cipher : \n",
    "    plain.append(chr(((ord(ch)-ord('a') - key) % 26) + ord('a')))\n",
    "print(\"The plain text for the above cipher text is : \", \"\".join(plain))"
   ]
  },
  {
   "cell_type": "raw",
   "id": "5cebeb78-17d6-46e0-9df6-232a3bd3f6d2",
   "metadata": {},
   "source": [
    " b> Multiplicative Cipher"
   ]
  },
  {
   "cell_type": "code",
   "execution_count": 20,
   "id": "79b1ba5f-95a8-444b-b76e-bbb7d7d5de65",
   "metadata": {},
   "outputs": [
    {
     "name": "stdin",
     "output_type": "stream",
     "text": [
      "Enter a string that needs to be encrypted :  hello\n"
     ]
    },
    {
     "name": "stdout",
     "output_type": "stream",
     "text": [
      "Key can be from 1, 3, 5, 7, 9, 11, 15, 17, 19, 21, 23, 25\n"
     ]
    },
    {
     "name": "stdin",
     "output_type": "stream",
     "text": [
      "Enter the key value :  7\n"
     ]
    },
    {
     "name": "stdout",
     "output_type": "stream",
     "text": [
      "The cipher text for the given text is :  xczzu\n"
     ]
    }
   ],
   "source": [
    "text = input(\"Enter a string that needs to be encrypted : \")\n",
    "print(\"Key can be from 1, 3, 5, 7, 9, 11, 15, 17, 19, 21, 23, 25\")\n",
    "key = int(input(\"Enter the key value : \"))\n",
    "\n",
    "cipher = []\n",
    "\n",
    "for ch in text : \n",
    "    cipher.append(chr((((ord(ch) - ord('a')) * key) % 26) + ord('a')))\n",
    "print(\"The cipher text for the given text is : \", \"\".join(cipher))"
   ]
  },
  {
   "cell_type": "raw",
   "id": "fe676be1-4919-48ad-8ac6-81f282a8f606",
   "metadata": {},
   "source": [
    " c> Affine cipher"
   ]
  },
  {
   "cell_type": "code",
   "execution_count": 22,
   "id": "49cd65db-a49a-471c-9c59-ed7fb5cd3750",
   "metadata": {},
   "outputs": [
    {
     "name": "stdin",
     "output_type": "stream",
     "text": [
      "Enter a string that needs to be encrypted :  hello\n",
      "Enter the Additive_key value :  2\n"
     ]
    },
    {
     "name": "stdout",
     "output_type": "stream",
     "text": [
      "Inverse_Key can be from 1, 3, 5, 7, 9, 11, 15, 17, 19, 21, 23, 25\n"
     ]
    },
    {
     "name": "stdin",
     "output_type": "stream",
     "text": [
      "Enter the Inverse_key value :  7\n"
     ]
    },
    {
     "name": "stdout",
     "output_type": "stream",
     "text": [
      "The cipher text for the given text is :  zebbw\n"
     ]
    }
   ],
   "source": [
    "text = input(\"Enter a string that needs to be encrypted : \")\n",
    "additive_key = int(input(\"Enter the Additive_key value : \"))\n",
    "print(\"Inverse_Key can be from 1, 3, 5, 7, 9, 11, 15, 17, 19, 21, 23, 25\")\n",
    "inverse_key = int(input(\"Enter the Inverse_key value : \"))\n",
    "\n",
    "cipher = []\n",
    "\n",
    "for ch in text :\n",
    "    cipher.append (chr(((((ord(ch) - ord('a')) * inverse_key) + additive_key) % 26) + ord('a')))\n",
    "print(\"The cipher text for the given text is : \", \"\".join(cipher))"
   ]
  },
  {
   "cell_type": "raw",
   "id": "5fb97bea-e911-41ab-9b19-bbe19a66fce0",
   "metadata": {},
   "source": [
    " d> Playfair Cipher"
   ]
  },
  {
   "cell_type": "code",
   "execution_count": 5,
   "id": "ece18bdb-0d27-4907-9839-2a6fcc98fc1b",
   "metadata": {},
   "outputs": [
    {
     "name": "stdin",
     "output_type": "stream",
     "text": [
      "Enter a string that needs to be encrypted :  hello\n"
     ]
    },
    {
     "name": "stdout",
     "output_type": "stream",
     "text": [
      "[['h', 'e'], ['l', 'x'], ['l', 'o']]\n",
      "The ciphertext is :  kcnvmp\n"
     ]
    }
   ],
   "source": [
    "key = [\n",
    "    [\"a\",\"b\",\"c\",\"d\",\"e\"],\n",
    "    [\"f\",\"g\",\"h\",\"i\",\"k\"],\n",
    "    [\"l\",\"m\",\"n\",\"o\",\"p\"],\n",
    "    [\"q\",\"r\",\"s\",\"t\",\"u\"],\n",
    "    [\"v\",\"w\",\"x\",\"y\",\"z\"]\n",
    "]\n",
    "\n",
    "text = input(\"Enter a string that needs to be encrypted : \").lower()\n",
    "\n",
    "#making a pair for to be encryption\n",
    "pairs = []\n",
    "i = 0\n",
    "while(i < len(text)) :\n",
    "    a = text[i]\n",
    "    if(i+1 < len(text)):\n",
    "        b = text[i + 1]\n",
    "        if(a==b):\n",
    "            pairs.append([a,'x'])\n",
    "            i += 1\n",
    "        else :\n",
    "            pairs.append([a,b])\n",
    "            i += 2\n",
    "    else :\n",
    "        pairs.append([a,'x'])\n",
    "print(pairs)\n",
    "\n",
    "#finding i and j elemnent\n",
    "def find_element(a,key):\n",
    "    if a == 'j' : \n",
    "        a = 'i'\n",
    "    for i in range (5):\n",
    "        for j in range(5):\n",
    "            if(a == key[i][j]) :\n",
    "                return i, j\n",
    "    \n",
    "#encryption steps\n",
    "cipher = []\n",
    "\n",
    "for a, b in pairs : \n",
    "    r1, c1 = find_element(a, key)#here we can also use j = 0 and for input just write (pairs[j][0]) for first element for the pair cause only j will travel from pair to pair and to access element inside the pair we have to do that\n",
    "    r2, c2 = find_element(b, key)\n",
    "\n",
    "    if(r1==r2) :\n",
    "        cipher.append(key[r1][(c1+1)%5])\n",
    "        cipher.append(key[r2][(c2+1)%5])#instead of 2 appends we can use cipher.extend(here we can write both key)\n",
    "    elif(c1 == c2):\n",
    "        cipher.extend(key[(r1+1)%5][c1], key[(r2+1)%5][c2])#using the extend method\n",
    "    else:\n",
    "        cipher += key[r1][c2],key[r2][c1]\n",
    "\n",
    "#printing cipher word\n",
    "print(\"The ciphertext is : \", \"\".join(cipher))"
   ]
  },
  {
   "cell_type": "raw",
   "id": "0361a52e-6abd-440e-b1c3-50168312b7aa",
   "metadata": {},
   "source": [
    " e> Hill Cipher"
   ]
  },
  {
   "cell_type": "code",
   "execution_count": null,
   "id": "fe869b5a-dad3-40df-9a40-b638b1e1d95c",
   "metadata": {},
   "outputs": [],
   "source": [
    "# key matrix (2x2 example)\n",
    "key = [\n",
    "    [3, 3],\n",
    "    [2, 5]\n",
    "]\n",
    "\n",
    "# function to convert char -> num\n",
    "def char_to_num(ch):\n",
    "    return ord(ch) - ord('a')\n",
    "\n",
    "# function to convert num -> char\n",
    "def num_to_char(num):\n",
    "    return chr((num % 26) + ord('a'))\n",
    "\n",
    "# input\n",
    "text = input(\"Enter the string : \").lower()\n",
    "# remove spaces\n",
    "text = \"\".join(text.split())\n",
    "\n",
    "# make sure length is even (since 2x2 key)\n",
    "if len(text) % 2 != 0:\n",
    "    text += 'x'\n",
    "\n",
    "cipher = \"\"\n",
    "\n",
    "# process 2 characters at a time\n",
    "i = 0\n",
    "while i < len(text):\n",
    "    a = char_to_num(text[i])\n",
    "    b = char_to_num(text[i+1])\n",
    "\n",
    "    # multiply with key matrix\n",
    "    c1 = (key[0][0]*a + key[0][1]*b) % 26\n",
    "    c2 = (key[1][0]*a + key[1][1]*b) % 26\n",
    "\n",
    "    # convert back to characters\n",
    "    cipher += num_to_char(c1)\n",
    "    cipher += num_to_char(c2)\n",
    "\n",
    "    i += 2\n",
    "\n",
    "print(\"Cipher text :\", cipher)\n",
    "\n",
    "\n"
   ]
  }
 ],
 "metadata": {
  "kernelspec": {
   "display_name": "Python [conda env:base] *",
   "language": "python",
   "name": "conda-base-py"
  },
  "language_info": {
   "codemirror_mode": {
    "name": "ipython",
    "version": 3
   },
   "file_extension": ".py",
   "mimetype": "text/x-python",
   "name": "python",
   "nbconvert_exporter": "python",
   "pygments_lexer": "ipython3",
   "version": "3.13.5"
  }
 },
 "nbformat": 4,
 "nbformat_minor": 5
}
