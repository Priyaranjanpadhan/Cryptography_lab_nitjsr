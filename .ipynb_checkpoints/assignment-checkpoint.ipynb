{
 "cells": [
  {
   "cell_type": "raw",
   "id": "233b51ce-3930-43c3-81d7-1566e06bdc78",
   "metadata": {},
   "source": [
    "1) Using lists create 2 matrix i.e. if 3 * 3 matrix is there then 3 lists having 3 elements in a single list should be there(nested list), lets name then matA and matB then perform :-\n",
    "  -> Matrix Addition\n",
    "    -> Matrix Substraction\n",
    "   -> Matrix Multiplication(in place i.e. matA[i] * matB[i])"
   ]
  },
  {
   "cell_type": "code",
   "execution_count": 20,
   "id": "0c76e955-3d08-4374-af4e-2792fe08daff",
   "metadata": {
    "scrolled": true
   },
   "outputs": [
    {
     "name": "stdin",
     "output_type": "stream",
     "text": [
      "Enter the row size :  3\n",
      "Enter the column size :  3\n",
      "Enter the number for matA list [0][0] :  1\n",
      "Enter the number for matA list [0][1] :  2\n",
      "Enter the number for matA list [0][2] :  3\n",
      "Enter the number for matA list [1][0] :  4\n",
      "Enter the number for matA list [1][1] :  5\n",
      "Enter the number for matA list [1][2] :  6\n",
      "Enter the number for matA list [2][0] :  7\n",
      "Enter the number for matA list [2][1] :  8\n",
      "Enter the number for matA list [2][2] :  9\n"
     ]
    },
    {
     "name": "stdout",
     "output_type": "stream",
     "text": [
      "The given matA is :  [[1, 2, 3], [4, 5, 6], [7, 8, 9]]\n"
     ]
    },
    {
     "name": "stdin",
     "output_type": "stream",
     "text": [
      "Enter the number for matB list [0][0] :  9\n",
      "Enter the number for matB list [0][1] :  8\n",
      "Enter the number for matB list [0][2] :  7\n",
      "Enter the number for matB list [1][0] :  6\n",
      "Enter the number for matB list [1][1] :  5\n",
      "Enter the number for matB list [1][2] :  4\n",
      "Enter the number for matB list [2][0] :  3\n",
      "Enter the number for matB list [2][1] :  2\n",
      "Enter the number for matB list [2][2] :  1\n"
     ]
    },
    {
     "name": "stdout",
     "output_type": "stream",
     "text": [
      "The given matB is :  [[9, 8, 7], [6, 5, 4], [3, 2, 1]]\n",
      "The addition of the given array is :  [[10, 10, 10], [10, 10, 10], [10, 10, 10]]\n",
      "The substraction of the given array is :  [[-8, -6, -4], [-2, 0, 2], [4, 6, 8]]\n",
      "The multiplication of the given array is :  [[9, 16, 21], [24, 25, 24], [21, 16, 9]]\n"
     ]
    }
   ],
   "source": [
    "matA = [] #created a matA list\n",
    "rows = int(input(\"Enter the row size : \"))\n",
    "cols = int(input(\"Enter the column size : \"))\n",
    "for i in range (rows) : \n",
    "    row = [] #create a row for matrix matA\n",
    "    for j in range(cols) :\n",
    "        row.append(int(input(f\"Enter the number for matA list {[i]}{[j]} : \"))) #append the input numbers to row\n",
    "    matA.append(row) #append each row to matA\n",
    "print(\"The given matA is : \", matA)\n",
    "\n",
    "matB = [] #created a matB list\n",
    "for i in range(rows) : \n",
    "    row = [] #create a row for matrix matB\n",
    "    for j in range(cols) : \n",
    "        row.append(int(input(f\"Enter the number for matB list {[i]}{[j]} : \"))) #append the input numbers to row\n",
    "    matB.append(row) #append each row to matB\n",
    "print(\"The given matB is : \", matB)\n",
    "\n",
    "addition = []\n",
    "for i in range(rows) :\n",
    "    row = []\n",
    "    for j in range(cols) :\n",
    "        #in 2 way we can initialize a 2d list in python in the addition we will do a certain way and in the substraction we will do another way\n",
    "        row.append(matA[i][j] + matB[i][j])\n",
    "    addition.append(row)\n",
    "print(\"The addition of the given array is : \", addition)\n",
    "\n",
    "substraction = [[0 for j in range(cols)] for i in range(rows)] #in this method we intialize the 2d array so that we can append directly without creating some extra steps\n",
    "for i in range(rows) :\n",
    "    for j in range(cols) :\n",
    "        substraction[i][j] = matA[i][j] - matB[i][j]\n",
    "print(\"The substraction of the given array is : \", substraction)\n",
    "\n",
    "multiplication = [[0 for j in range(cols)] for i in range(rows)] #as the 2nd method in the substraction method\n",
    "for i in range(rows) : \n",
    "    for j in range(cols) : \n",
    "        multiplication[i][j] = matA[i][j] * matB[i][j]\n",
    "print(\"The multiplication of the given array is : \", multiplication) #as stated in question matA[i] * matB[i]\n",
    "        "
   ]
  },
  {
   "cell_type": "raw",
   "id": "cf6a8ae5-ef89-46b0-ac7a-8c71117e28ce",
   "metadata": {},
   "source": [
    "2) Create nested tuples and display the tuple whose sum of elements is second largest throughout all of them"
   ]
  },
  {
   "cell_type": "code",
   "execution_count": 22,
   "id": "b2becefa-f4a6-436c-9705-4317bef70672",
   "metadata": {},
   "outputs": [
    {
     "name": "stdout",
     "output_type": "stream",
     "text": [
      "Tuple with second largest sum: (10, 1, 1) with sum = 12\n"
     ]
    }
   ],
   "source": [
    "# Nested tuples\n",
    "nested = ((1, 2, 3), (4, 5), (10, 1, 1), (7, 8))\n",
    "\n",
    "# compute the sum of each inner tuple\n",
    "tuple_sums = [] # will store pairs like: (the_tuple, its_sum)\n",
    "\n",
    "for t in nested: #Accessing the (1,2,3) as a whole               \n",
    "    s = 0                       \n",
    "    for value in t: #Accessing the each element in the tuple separately             \n",
    "        s += value\n",
    "    tuple_sums.append((t, s)) # remember both the tuple and its sum\n",
    "\n",
    "# find the largest and SECOND largest DISTINCT sums\n",
    "largest_sum = None\n",
    "largest_tuple = None\n",
    "second_sum = None\n",
    "second_tuple = None\n",
    "\n",
    "for t, s in tuple_sums:\n",
    "    if largest_sum is None or s > largest_sum:\n",
    "        # We found a new largest; the old largest becomes the second largest\n",
    "        if largest_sum is not None and s != largest_sum:\n",
    "            second_sum = largest_sum\n",
    "            second_tuple = largest_tuple\n",
    "        largest_sum = s\n",
    "        largest_tuple = t\n",
    "    elif s != largest_sum and (second_sum is None or s > second_sum):\n",
    "        # s is strictly less than largest_sum but better than current second_sum\n",
    "        second_sum = s\n",
    "        second_tuple = t\n",
    "\n",
    "if second_tuple is None:\n",
    "    print(\"No second-largest distinct sum exists\")\n",
    "else:\n",
    "    print(\"Tuple with second largest sum:\", second_tuple, \"with sum =\", second_sum)\n"
   ]
  },
  {
   "cell_type": "raw",
   "id": "18cf1aca-68b4-42df-94c7-a2c11fb0f7f9",
   "metadata": {},
   "source": [
    "3) Create a nested dictionary representing students as the keys and a dictionary consisting of their marks as the values, addd some data to it and then calculate the avearage in every subject i.e average of all students in that lets say maths"
   ]
  },
  {
   "cell_type": "code",
   "execution_count": 24,
   "id": "356ea71d-34e9-427c-ae69-5be55da3c384",
   "metadata": {},
   "outputs": [
    {
     "name": "stdin",
     "output_type": "stream",
     "text": [
      "How many number of students :  2\n",
      "write all the subjects separated by a space :  math science language\n",
      "\n",
      "Enter name of student 1 :  gyana\n",
      "Enter the marks of math 3\n",
      "Enter the marks of science 2\n",
      "Enter the marks of language 1\n",
      "\n",
      "Enter name of student 2 :  priyaranjan\n",
      "Enter the marks of math 1\n",
      "Enter the marks of science 2\n",
      "Enter the marks of language 3\n"
     ]
    },
    {
     "name": "stdout",
     "output_type": "stream",
     "text": [
      "\n",
      "Students data :  {'gyana': {'math': 3, 'science': 2, 'language': 1}, 'priyaranjan': {'math': 1, 'science': 2, 'language': 3}}\n",
      "Average marks in math: 2.0\n",
      "Average marks in science: 2.0\n",
      "Average marks in language: 2.0\n"
     ]
    }
   ],
   "source": [
    "students = {} #empty dictionary\n",
    "\n",
    "#no. of students\n",
    "no_students = int(input(\"How many number of students : \"))\n",
    "\n",
    "#no. of subjects \n",
    "subjects = input(\"write all the subjects separated by a space : \").split()\n",
    "\n",
    "#taking input as a nested dictionary\n",
    "for i in range(no_students) : \n",
    "    name = input(f\"\\nEnter name of student {i + 1} : \")\n",
    "    marks = {}\n",
    "    for subject in subjects :\n",
    "        mark = int(input(f\"Enter the marks of {subject}\"))\n",
    "        marks[subject] = mark\n",
    "    students[name] = marks\n",
    "    \n",
    "print(\"\\nStudents data : \", students)\n",
    "\n",
    "for subject in subjects:\n",
    "    total = 0\n",
    "    for student in students:\n",
    "        total += students[student][subject]\n",
    "    avg = total / no_students\n",
    "    print(f\"Average marks in {subject}: {avg}\")\n",
    "    "
   ]
  },
  {
   "cell_type": "raw",
   "id": "000f51e8-afc4-4ac0-8854-714e7f4c5ebc",
   "metadata": {},
   "source": [
    "4) Perform every operation on the dictionary"
   ]
  },
  {
   "cell_type": "code",
   "execution_count": 26,
   "id": "5d2156c9-a798-4a4b-9949-837aca2e11c1",
   "metadata": {},
   "outputs": [
    {
     "name": "stdout",
     "output_type": "stream",
     "text": [
      "The dictionary looks like :  {'Gyana': {'Math': 90, 'Science': 80}, 'Priya Ranjan': {'Math': 85, 'Science': 90}}\n",
      "Gyana math's mark 90\n",
      "The added dictionary looks like :  {'Gyana': {'Math': 90, 'Science': 80}, 'Priya Ranjan': {'Math': 85, 'Science': 90}, 'Subhashree': {'Math': 100, 'Science': 95}}\n",
      "After updation :  {'Gyana': {'Math': 85, 'Science': 80}, 'Priya Ranjan': {'Math': 85, 'Science': 90}, 'Subhashree': {'Math': 100, 'Science': 95}}\n",
      "After deletion of the key :  {'Priya Ranjan': {'Math': 85, 'Science': 90}, 'Subhashree': {'Math': 100, 'Science': 95}}\n",
      "Priya Ranjan's marks are {'Math': 85, 'Science': 90}\n",
      "Subhashree's marks are {'Math': 100, 'Science': 95}\n",
      "All student names: dict_keys(['Priya Ranjan', 'Subhashree'])\n",
      "All marks dictionaries: dict_values([{'Math': 85, 'Science': 90}, {'Math': 100, 'Science': 95}])\n",
      "All items (key + value): dict_items([('Priya Ranjan', {'Math': 85, 'Science': 90}), ('Subhashree', {'Math': 100, 'Science': 95})])\n",
      "Subhashree is in the dictionary\n",
      "After clearing students :  {}\n"
     ]
    }
   ],
   "source": [
    "#Create a dictionary\n",
    "dictionary = {\n",
    "    \"Gyana\" : {\"Math\" : 90, \"Science\" : 80}, \n",
    "    \"Priya Ranjan\" : {\"Math\" : 85, \"Science\" : 90}\n",
    "}\n",
    "print(\"The dictionary looks like : \", dictionary)\n",
    "\n",
    "#Access values\n",
    "print(\"Gyana math's mark\", dictionary[\"Gyana\"][\"Math\"])\n",
    "\n",
    "#Add a new key-value pair\n",
    "dictionary[\"Subhashree\"] = {\"Math\" : 100, \"Science\" : 95}\n",
    "print(\"The added dictionary looks like : \", dictionary)\n",
    "\n",
    "#update a value\n",
    "dictionary[\"Gyana\"][\"Math\"] = 85\n",
    "print(\"After updation : \", dictionary)\n",
    "\n",
    "#delete a key\n",
    "del dictionary[\"Gyana\"]\n",
    "print(\"After deletion of the key : \", dictionary)\n",
    "\n",
    "#using loops in dictionary\n",
    "for student, marks in dictionary.items():\n",
    "    print(f\"{student}'s marks are {marks}\")\n",
    "\n",
    "#Dictionary functions\n",
    "print(\"All student names:\", dictionary.keys())\n",
    "print(\"All marks dictionaries:\", dictionary.values())\n",
    "print(\"All items (key + value):\", dictionary.items())\n",
    "\n",
    "#checking if key exists\n",
    "if \"Subhashree\" in dictionary:\n",
    "    print(\"Subhashree is in the dictionary\")\n",
    "\n",
    "#clear dictionary\n",
    "dictionary.clear()\n",
    "print(\"After clearing students : \", dictionary)"
   ]
  },
  {
   "cell_type": "code",
   "execution_count": null,
   "id": "1d9acf8b-3913-41a1-b5ff-aecaadc0c100",
   "metadata": {},
   "outputs": [],
   "source": []
  }
 ],
 "metadata": {
  "kernelspec": {
   "display_name": "Python [conda env:base] *",
   "language": "python",
   "name": "conda-base-py"
  },
  "language_info": {
   "codemirror_mode": {
    "name": "ipython",
    "version": 3
   },
   "file_extension": ".py",
   "mimetype": "text/x-python",
   "name": "python",
   "nbconvert_exporter": "python",
   "pygments_lexer": "ipython3",
   "version": "3.13.5"
  }
 },
 "nbformat": 4,
 "nbformat_minor": 5
}
